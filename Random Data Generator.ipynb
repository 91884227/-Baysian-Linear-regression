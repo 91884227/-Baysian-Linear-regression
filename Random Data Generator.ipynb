{
 "cells": [
  {
   "cell_type": "code",
   "execution_count": 1,
   "metadata": {},
   "outputs": [],
   "source": [
    "import pandas as pd\n",
    "import numpy as np\n",
    "import math\n",
    "from itertools import repeat\n",
    "import matplotlib.pyplot as plt\n",
    "import seaborn as sns"
   ]
  },
  {
   "cell_type": "code",
   "execution_count": 2,
   "metadata": {},
   "outputs": [],
   "source": [
    "def one_normal_generate(dummy_):\n",
    "    container = np.random.uniform(-1, 1, 2)\n",
    "    r_2 = np.square(container).sum()\n",
    "    if( r_2 <= 1):\n",
    "        #u1, u2 = container\n",
    "        v1, v2 = container\n",
    "        x1 = math.sqrt( -2*math.log(r_2)/r_2 ) * v1 \n",
    "        x2 = math.sqrt( -2*math.log(r_2)/r_2 ) * v2 \n",
    "        return( [x1, x2] )\n",
    "    else:\n",
    "        return(one_normal_generate(dummy_) )"
   ]
  },
  {
   "cell_type": "code",
   "execution_count": 26,
   "metadata": {},
   "outputs": [],
   "source": [
    "def Q1_a(int_, mean_, sigma_):\n",
    "    buf = list(map(one_normal_generate, range( int(int_/2) )))\n",
    "    buf = np.array(buf).flatten()\n",
    "    buf = sigma_*buf + mean_\n",
    "    #sns.distplot(buf)\n",
    "    return(buf)"
   ]
  },
  {
   "cell_type": "code",
   "execution_count": 27,
   "metadata": {},
   "outputs": [
    {
     "data": {
      "text/plain": [
       "array([ 99.57707403,  99.15942596, 101.13970341, ...,  99.31351618,\n",
       "       100.7224673 , 100.14179202])"
      ]
     },
     "execution_count": 27,
     "metadata": {},
     "output_type": "execute_result"
    }
   ],
   "source": [
    "Q1_a(100000, 100, 1)"
   ]
  },
  {
   "cell_type": "code",
   "execution_count": 20,
   "metadata": {},
   "outputs": [],
   "source": [
    "def design_matrix(float_, int_):\n",
    "    #list_ = add_data\n",
    "    #max_power_ = 3\n",
    "    buf = list( map(np.power, repeat(float_), np.arange(int_) ) )\n",
    "    buf = pd.DataFrame(buf).T\n",
    "    return(buf)"
   ]
  },
  {
   "cell_type": "code",
   "execution_count": 24,
   "metadata": {},
   "outputs": [
    {
     "data": {
      "text/plain": [
       "0    0.932269\n",
       "dtype: float64"
      ]
     },
     "execution_count": 24,
     "metadata": {},
     "output_type": "execute_result"
    }
   ],
   "source": [
    "x = np.random.uniform(-1, 1, 1)[0]\n",
    "design_matrix(x, n).dot(w)"
   ]
  },
  {
   "cell_type": "code",
   "execution_count": 46,
   "metadata": {},
   "outputs": [],
   "source": [
    "def Q1_b(n, a, w):\n",
    "    #n, a, w = 2, 1, [1, 1]\n",
    "    x = np.random.uniform(-1, 1, 1)[0]\n",
    "    e = Q1_a(2, 0, a)[0]\n",
    "    w_t_sigma_x = design_matrix(x, n).dot(w)[0]\n",
    "    y = w_t_sigma_x + e\n",
    "    return((x, y))"
   ]
  },
  {
   "cell_type": "code",
   "execution_count": 58,
   "metadata": {},
   "outputs": [],
   "source": [
    "buf = []\n",
    "for i in np.arange(10000):\n",
    "    buf = buf + [Q1_b(4, 1, [1, 2, 3, 4])]"
   ]
  },
  {
   "cell_type": "code",
   "execution_count": 59,
   "metadata": {},
   "outputs": [],
   "source": [
    "buf2 = pd.DataFrame(buf)\n",
    "buf2.columns = [\"x\", \"y\"]"
   ]
  },
  {
   "cell_type": "code",
   "execution_count": 60,
   "metadata": {},
   "outputs": [
    {
     "data": {
      "text/plain": [
       "<matplotlib.axes._subplots.AxesSubplot at 0x2885db1fba8>"
      ]
     },
     "execution_count": 60,
     "metadata": {},
     "output_type": "execute_result"
    },
    {
     "data": {
      "image/png": "[encoded data removed]",
      "text/plain": [
       "<Figure size 432x288 with 1 Axes>"
      ]
     },
     "metadata": {
      "needs_background": "light"
     },
     "output_type": "display_data"
    }
   ],
   "source": [
    "buf2.plot.scatter(x = \"x\", y = \"y\")"
   ]
  },
  {
   "cell_type": "code",
   "execution_count": null,
   "metadata": {},
   "outputs": [],
   "source": []
  }
 ],
 "metadata": {
  "kernelspec": {
   "display_name": "Python 3",
   "language": "python",
   "name": "python3"
  },
  "language_info": {
   "codemirror_mode": {
    "name": "ipython",
    "version": 3
   },
   "file_extension": ".py",
   "mimetype": "text/x-python",
   "name": "python",
   "nbconvert_exporter": "python",
   "pygments_lexer": "ipython3",
   "version": "3.6.4"
  }
 },
 "nbformat": 4,
 "nbformat_minor": 2
}
