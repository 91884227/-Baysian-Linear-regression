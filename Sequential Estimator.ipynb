{
 "cells": [
  {
   "cell_type": "code",
   "execution_count": 1,
   "metadata": {},
   "outputs": [],
   "source": [
    "import pandas as pd\n",
    "import numpy as np\n",
    "import math\n",
    "import sys\n",
    "\n",
    "sys.setrecursionlimit(10000)"
   ]
  },
  {
   "cell_type": "code",
   "execution_count": 2,
   "metadata": {},
   "outputs": [],
   "source": [
    "def one_normal_generate(dummy_):\n",
    "    container = np.random.uniform(-1, 1, 2)\n",
    "    r_2 = np.square(container).sum()\n",
    "    if( r_2 <= 1):\n",
    "        #u1, u2 = container\n",
    "        v1, v2 = container\n",
    "        x1 = math.sqrt( -2*math.log(r_2)/r_2 ) * v1 \n",
    "        x2 = math.sqrt( -2*math.log(r_2)/r_2 ) * v2 \n",
    "        return( [x1, x2] )\n",
    "    else:\n",
    "        return(one_normal_generate(dummy_) )\n",
    "def Q1(int_, mean_, sigma_):\n",
    "    buf = list(map(one_normal_generate, range( int(int_/2) )))\n",
    "    buf = np.array(buf).flatten()\n",
    "    buf = sigma_*buf + mean_\n",
    "    #sns.distplot(buf)\n",
    "    return(buf)    "
   ]
  },
  {
   "cell_type": "code",
   "execution_count": 4,
   "metadata": {},
   "outputs": [],
   "source": [
    "#mu_b, sigma_b, n = 0, 10, 1\n",
    "def Q2_update(mu_b, sigma_b, n):\n",
    "    global mu_fix, sigma_fix\n",
    "    \n",
    "    if( abs(mu_fix - mu_b) < 0.1 and abs(sigma_fix - sigma_b) < 0.1):\n",
    "        return(\"finish\")\n",
    "    else:\n",
    "        #x_n =  np.random.normal(mu_fix, math.sqrt(sigma_fix), 1)[0]\n",
    "        x_n = Q1(2, mu_fix, math.sqrt(sigma_fix))[0]\n",
    "        mu = mu_b + (x_n - mu_b)/n\n",
    "        sigma = sigma_b + ((x_n - mu_b)*(x_n - mu) - sigma_b)/n\n",
    "        print(\"Add data point:%.4f\" % (x_n))\n",
    "        print(\"Mean: %.4f Variance: %.4f\\n\" % (mu, sigma))\n",
    "        return( Q2_update(mu, sigma, n+1) )"
   ]
  },
  {
   "cell_type": "code",
   "execution_count": 5,
   "metadata": {},
   "outputs": [],
   "source": [
    "def Q2(mu_, sigma_):\n",
    "    global mu_fix, sigma_fix\n",
    "    mu_fix, sigma_fix = mu_, sigma_\n",
    "    Q2_update(mu_b = 0, sigma_b = 1, n = 1)"
   ]
  },
  {
   "cell_type": "code",
   "execution_count": null,
   "metadata": {},
   "outputs": [],
   "source": []
  }
 ],
 "metadata": {
  "kernelspec": {
   "display_name": "Python 3",
   "language": "python",
   "name": "python3"
  },
  "language_info": {
   "codemirror_mode": {
    "name": "ipython",
    "version": 3
   },
   "file_extension": ".py",
   "mimetype": "text/x-python",
   "name": "python",
   "nbconvert_exporter": "python",
   "pygments_lexer": "ipython3",
   "version": "3.6.4"
  }
 },
 "nbformat": 4,
 "nbformat_minor": 2
}
